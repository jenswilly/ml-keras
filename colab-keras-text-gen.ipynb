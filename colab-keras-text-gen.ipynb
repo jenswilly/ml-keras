{
  "nbformat": 4,
  "nbformat_minor": 0,
  "metadata": {
    "colab": {
      "name": "Untitled0.ipynb",
      "provenance": [],
      "authorship_tag": "ABX9TyNFy3/qhr3X8BfFh/L7w4LJ",
      "include_colab_link": true
    },
    "kernelspec": {
      "name": "python3",
      "display_name": "Python 3"
    }
  },
  "cells": [
    {
      "cell_type": "markdown",
      "metadata": {
        "id": "view-in-github",
        "colab_type": "text"
      },
      "source": [
        "<a href=\"https://colab.research.google.com/github/jenswilly/ml-keras/blob/master/colab-keras-text-gen.ipynb\" target=\"_parent\"><img src=\"https://colab.research.google.com/assets/colab-badge.svg\" alt=\"Open In Colab\"/></a>"
      ]
    },
    {
      "cell_type": "code",
      "metadata": {
        "id": "4u1UHTpZGcjb",
        "colab_type": "code",
        "colab": {
          "base_uri": "https://localhost:8080/",
          "height": 102
        },
        "outputId": "46bc88bd-a813-4710-9249-6436cbaaa262"
      },
      "source": [
        "import numpy as np\n",
        "values = np.array( [[20,18,17,10],[18,21,21,23],[17,32,19,20]] )\n",
        "values = values.astype( 'float32' ) # Convert all to float32\n",
        "print( values )\n",
        "values -= np.mean( values )\n",
        "print( f\"New mean: {np.mean(values)}\") # Almost zero (6e-07)?\n",
        "values /= np.std( values )\n",
        "print( f\"New std. dev.: {np.std(values)}\")\n"
      ],
      "execution_count": 15,
      "outputs": [
        {
          "output_type": "stream",
          "text": [
            "[[20. 18. 17. 10.]\n",
            " [18. 21. 21. 23.]\n",
            " [17. 32. 19. 20.]]\n",
            "New mean: 6.35782896551973e-07\n",
            "New std. dev.: 1.0\n"
          ],
          "name": "stdout"
        }
      ]
    },
    {
      "cell_type": "code",
      "metadata": {
        "id": "_M2XjcdWGxYA",
        "colab_type": "code",
        "colab": {
          "base_uri": "https://localhost:8080/",
          "height": 34
        },
        "outputId": "a3df3d2a-e8d0-43cc-da94-f874ccc58bdc"
      },
      "source": [
        "np.argmax(values, axis=0)"
      ],
      "execution_count": 19,
      "outputs": [
        {
          "output_type": "execute_result",
          "data": {
            "text/plain": [
              "array([0, 2, 1, 1])"
            ]
          },
          "metadata": {
            "tags": []
          },
          "execution_count": 19
        }
      ]
    },
    {
      "cell_type": "code",
      "metadata": {
        "id": "yTxv0eRJXzM7",
        "colab_type": "code",
        "colab": {
          "base_uri": "https://localhost:8080/",
          "height": 85
        },
        "outputId": "9802babb-bf28-4362-dba2-af7096b60b15"
      },
      "source": [
        "values"
      ],
      "execution_count": 18,
      "outputs": [
        {
          "output_type": "execute_result",
          "data": {
            "text/plain": [
              "array([[ 0.06892469, -0.34462264, -0.5513963 , -1.998812  ],\n",
              "       [-0.34462264,  0.27569833,  0.27569833,  0.68924564],\n",
              "       [-0.5513963 ,  2.5502086 , -0.13784897,  0.06892469]],\n",
              "      dtype=float32)"
            ]
          },
          "metadata": {
            "tags": []
          },
          "execution_count": 18
        }
      ]
    },
    {
      "cell_type": "code",
      "metadata": {
        "id": "2ppwYHavX4UJ",
        "colab_type": "code",
        "colab": {}
      },
      "source": [
        ""
      ],
      "execution_count": null,
      "outputs": []
    }
  ]
}
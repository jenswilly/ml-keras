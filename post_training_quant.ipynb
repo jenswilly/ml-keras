{
 "cells": [
  {
   "cell_type": "code",
   "execution_count": 1,
   "metadata": {},
   "outputs": [],
   "source": [
    "import tensorflow as tf\n",
    "\n",
    "# A generator that provides a representative dataset\n",
    "base_dir = '../cats_and_dogs_small/train'\n",
    "IMAGE_SIZE = 150\n",
    "def representative_data_gen():\n",
    "  dataset_list = tf.data.Dataset.list_files( base_dir + '/*/*' )\n",
    "  for i in range(100):\n",
    "    image = next( iter( dataset_list ))\n",
    "    image = tf.io.read_file( image )\n",
    "    image = tf.io.decode_jpeg( image, channels=3 )\n",
    "    image = tf.image.resize( image, [IMAGE_SIZE, IMAGE_SIZE] )\n",
    "    image = tf.cast( image / 255., tf.float32 )\n",
    "    image = tf.expand_dims( image, 0 )\n",
    "    yield [image]\n",
    "\n",
    "model = tf.keras.models.load_model( 'cats_and_dogs_small_1.h5' )\n",
    "converter = tf.lite.TFLiteConverter.from_keras_model( model )\n",
    "\n",
    "# This enables quantization\n",
    "converter.optimizations = [tf.lite.Optimize.DEFAULT]\n",
    "\n",
    "# This sets the representative dataset for quantization\n",
    "converter.representative_dataset = representative_data_gen\n",
    "\n",
    "# This ensures that if any ops can't be quantized, the converter throws an error\n",
    "converter.target_spec.supported_ops = [tf.lite.OpsSet.TFLITE_BUILTINS_INT8]\n",
    "\n",
    "# For full integer quantization, though supported types defaults to int8 only, we explicitly declare it for clarity.\n",
    "converter.target_spec.supported_types = [tf.int8]\n",
    "\n",
    "# These set the input and output tensors to uint8 (added in r2.3)\n",
    "converter.inference_input_type = tf.uint8\n",
    "converter.inference_output_type = tf.uint8\n",
    "tflite_model = converter.convert()\n",
    "\n",
    "with open('cats_and_dogs_quant.tflite', 'wb') as f:\n",
    "  f.write(tflite_model)"
   ]
  },
  {
   "cell_type": "code",
   "execution_count": null,
   "metadata": {},
   "outputs": [],
   "source": []
  }
 ],
 "metadata": {
  "kernelspec": {
   "display_name": "mltest",
   "language": "python",
   "name": "mltest"
  },
  "language_info": {
   "codemirror_mode": {
    "name": "ipython",
    "version": 3
   },
   "file_extension": ".py",
   "mimetype": "text/x-python",
   "name": "python",
   "nbconvert_exporter": "python",
   "pygments_lexer": "ipython3",
   "version": "3.7.7"
  }
 },
 "nbformat": 4,
 "nbformat_minor": 4
}
